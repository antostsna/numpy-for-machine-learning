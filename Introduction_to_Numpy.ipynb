{
  "nbformat": 4,
  "nbformat_minor": 0,
  "metadata": {
    "colab": {
      "provenance": [],
      "toc_visible": true,
      "authorship_tag": "ABX9TyOjk3t0z3tVD7KVNVF0oHif",
      "include_colab_link": true
    },
    "kernelspec": {
      "name": "python3",
      "display_name": "Python 3"
    },
    "language_info": {
      "name": "python"
    }
  },
  "cells": [
    {
      "cell_type": "markdown",
      "metadata": {
        "id": "view-in-github",
        "colab_type": "text"
      },
      "source": [
        "<a href=\"https://colab.research.google.com/github/antostsna/numpy-for-machine-learning/blob/main/Introduction_to_Numpy.ipynb\" target=\"_parent\"><img src=\"https://colab.research.google.com/assets/colab-badge.svg\" alt=\"Open In Colab\"/></a>"
      ]
    },
    {
      "cell_type": "markdown",
      "source": [
        "#Introduction to NumPy for Machine Learning Programs\n",
        "\n",
        "<h3 style=\"text-align: center;\">Haryanto, M.Sc</h3>\n",
        "<h3 style=\"text-align: center;\">22 October 2024</h3>\n",
        "<h3 style=\"text-align: center;\">Ming Chi University of Technology</h3>\n",
        "\n",
        "---"
      ],
      "metadata": {
        "id": "-S5FNB8yYjDr"
      }
    },
    {
      "cell_type": "markdown",
      "source": [
        "## Outline\n",
        "\n",
        "1. Basic usage of Numpy\n",
        "2. Indexing, Broadcasting\n",
        "3. ploting data\n",
        "4. Introduce machine learning\n",
        "5. example case"
      ],
      "metadata": {
        "id": "5dG6ZmQjb-7b"
      }
    },
    {
      "cell_type": "markdown",
      "source": [],
      "metadata": {
        "id": "H28T1ImogbfZ"
      }
    },
    {
      "cell_type": "markdown",
      "source": [
        "C code"
      ],
      "metadata": {
        "id": "XZi_mrl1G-y2"
      }
    },
    {
      "cell_type": "code",
      "source": [
        "%%bash\n",
        "g++ -x c++ -o test_c - <<EOF\n",
        "#include <iostream>\n",
        "#include <stdio.h>\n",
        "#include <chrono>\n",
        "using namespace std;\n",
        "using namespace std::chrono;\n",
        "\n",
        "int main() {\n",
        "    // Start time\n",
        "    auto start = high_resolution_clock::now();\n",
        "\n",
        "    int i; double s = 0;\n",
        "    for (i = 0; i < 100000000; i++) s += i;\n",
        "    printf(\"%.0f\\n\", s);\n",
        "\n",
        "    // End time\n",
        "    auto end = high_resolution_clock::now();\n",
        "\n",
        "    // Calculate duration\n",
        "    duration<double> elapsed = end - start;\n",
        "    cout << \"Elapsed time: \" << elapsed.count() << \" seconds\" << endl;\n",
        "\n",
        "    return 0;\n",
        "}\n",
        "EOF\n",
        "\n",
        "./test_c"
      ],
      "metadata": {
        "colab": {
          "base_uri": "https://localhost:8080/"
        },
        "id": "8x--B1Q3F6PZ",
        "outputId": "e2bcd60b-0765-4780-fef5-a030de7f6ea7"
      },
      "execution_count": null,
      "outputs": [
        {
          "output_type": "stream",
          "name": "stdout",
          "text": [
            "4999999950000000\n",
            "Elapsed time: 0.346353 seconds\n"
          ]
        }
      ]
    },
    {
      "cell_type": "markdown",
      "source": [
        "Python code"
      ],
      "metadata": {
        "id": "lqwdTHi9HA52"
      }
    },
    {
      "cell_type": "code",
      "source": [
        "import time\n",
        "\n",
        "start = time.time()\n",
        "s = 0\n",
        "for i in range(100000000):\n",
        "    s += i\n",
        "print(s)\n",
        "print(f\"Elapsed time:{time.time() - start}\")"
      ],
      "metadata": {
        "colab": {
          "base_uri": "https://localhost:8080/"
        },
        "id": "fXz96jG4FlQe",
        "outputId": "0122f4fd-be6e-46d4-bb3c-9a83d10c9937"
      },
      "execution_count": null,
      "outputs": [
        {
          "output_type": "stream",
          "name": "stdout",
          "text": [
            "4999999950000000\n",
            "Elapsed time:13.338375806808472\n"
          ]
        }
      ]
    },
    {
      "cell_type": "code",
      "source": [
        "import time\n",
        "import numpy as np\n",
        "\n",
        "start = time.time()\n",
        "a = np.arange(100000000)\n",
        "print(np.sum(a))\n",
        "print(f\"Elapsed time:{time.time() - start}\")"
      ],
      "metadata": {
        "colab": {
          "base_uri": "https://localhost:8080/"
        },
        "id": "vJ4oxN7EHhw7",
        "outputId": "fec93eb0-20fb-4a91-88ba-e127f1354b55"
      },
      "execution_count": null,
      "outputs": [
        {
          "output_type": "stream",
          "name": "stdout",
          "text": [
            "4999999950000000\n",
            "Elapsed time:0.37337231636047363\n"
          ]
        }
      ]
    },
    {
      "cell_type": "markdown",
      "source": [
        "still slower then C, but sufficiently fast as a script langunge"
      ],
      "metadata": {
        "id": "MBnWexh1IVCj"
      }
    },
    {
      "cell_type": "code",
      "source": [],
      "metadata": {
        "id": "bIFSVbnEH3E4"
      },
      "execution_count": null,
      "outputs": []
    },
    {
      "cell_type": "markdown",
      "source": [
        "- python is very slow when written badly\n",
        "- translate C (or java, C#, etc) code into python is often bad idea\n",
        "\n",
        "Basic rules for better performance"
      ],
      "metadata": {
        "id": "HU_fMrUJI3CM"
      }
    }
  ]
}