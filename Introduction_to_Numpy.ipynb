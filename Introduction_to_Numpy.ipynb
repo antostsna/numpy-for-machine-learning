{
  "nbformat": 4,
  "nbformat_minor": 0,
  "metadata": {
    "colab": {
      "provenance": [],
      "toc_visible": true,
      "authorship_tag": "ABX9TyMrPet40RWsKc9SPmIfo+qA",
      "include_colab_link": true
    },
    "kernelspec": {
      "name": "python3",
      "display_name": "Python 3"
    },
    "language_info": {
      "name": "python"
    }
  },
  "cells": [
    {
      "cell_type": "markdown",
      "metadata": {
        "id": "view-in-github",
        "colab_type": "text"
      },
      "source": [
        "<a href=\"https://colab.research.google.com/github/antostsna/numpy-for-machine-learning/blob/main/Introduction_to_Numpy.ipynb\" target=\"_parent\"><img src=\"https://colab.research.google.com/assets/colab-badge.svg\" alt=\"Open In Colab\"/></a>"
      ]
    },
    {
      "cell_type": "markdown",
      "source": [
        "#Introduction to NumPy for Machine Learning Programs\n",
        "\n",
        "<h3 style=\"text-align: center;\">Haryanto, M.Sc</h3>\n",
        "<h3 style=\"text-align: center;\">22 October 2024</h3>\n",
        "<h3 style=\"text-align: center;\">Ming Chi University of Technology</h3>\n",
        "\n",
        "---"
      ],
      "metadata": {
        "id": "-S5FNB8yYjDr"
      }
    },
    {
      "cell_type": "markdown",
      "source": [
        "## Outline\n",
        "\n",
        "1. Introduction\n",
        "  - Creating arrays\n",
        "  - Index and slicing\n",
        "  - Array Operations\n",
        "2. Numpy for image Processing\n",
        "  - Representing an image\n",
        "  - resizing\n",
        "  - ploting data\n",
        "3. Example image classification\n",
        "4. Referece"
      ],
      "metadata": {
        "id": "5dG6ZmQjb-7b"
      }
    },
    {
      "cell_type": "markdown",
      "source": [
        "## Introduction"
      ],
      "metadata": {
        "id": "BNBBH_6zUZcC"
      }
    },
    {
      "cell_type": "markdown",
      "source": [
        "C code"
      ],
      "metadata": {
        "id": "XZi_mrl1G-y2"
      }
    },
    {
      "cell_type": "code",
      "source": [
        "%%bash\n",
        "g++ -x c++ -o test_c - <<EOF\n",
        "#include <iostream>\n",
        "#include <stdio.h>\n",
        "#include <chrono>\n",
        "using namespace std;\n",
        "using namespace std::chrono;\n",
        "\n",
        "int main() {\n",
        "    // Start time\n",
        "    auto start = high_resolution_clock::now();\n",
        "\n",
        "    int i; double s = 0;\n",
        "    for (i = 0; i < 100000000; i++) s += i;\n",
        "    printf(\"%.0f\\n\", s);\n",
        "\n",
        "    // End time\n",
        "    auto end = high_resolution_clock::now();\n",
        "\n",
        "    // Calculate duration\n",
        "    duration<double> elapsed = end - start;\n",
        "    cout << \"Elapsed time: \" << elapsed.count() << \" seconds\" << endl;\n",
        "\n",
        "    return 0;\n",
        "}\n",
        "EOF\n",
        "\n",
        "./test_c"
      ],
      "metadata": {
        "colab": {
          "base_uri": "https://localhost:8080/"
        },
        "id": "8x--B1Q3F6PZ",
        "outputId": "e2bcd60b-0765-4780-fef5-a030de7f6ea7"
      },
      "execution_count": null,
      "outputs": [
        {
          "output_type": "stream",
          "name": "stdout",
          "text": [
            "4999999950000000\n",
            "Elapsed time: 0.346353 seconds\n"
          ]
        }
      ]
    },
    {
      "cell_type": "markdown",
      "source": [
        "Python code"
      ],
      "metadata": {
        "id": "lqwdTHi9HA52"
      }
    },
    {
      "cell_type": "code",
      "source": [
        "import time\n",
        "\n",
        "start = time.time()\n",
        "s = 0\n",
        "for i in range(100000000):\n",
        "    s += i\n",
        "print(s)\n",
        "print(f\"Elapsed time:{time.time() - start}\")"
      ],
      "metadata": {
        "colab": {
          "base_uri": "https://localhost:8080/"
        },
        "id": "fXz96jG4FlQe",
        "outputId": "0122f4fd-be6e-46d4-bb3c-9a83d10c9937"
      },
      "execution_count": null,
      "outputs": [
        {
          "output_type": "stream",
          "name": "stdout",
          "text": [
            "4999999950000000\n",
            "Elapsed time:13.338375806808472\n"
          ]
        }
      ]
    },
    {
      "cell_type": "code",
      "source": [
        "import time\n",
        "import numpy as np\n",
        "\n",
        "start = time.time()\n",
        "a = np.arange(100000000)\n",
        "print(np.sum(a))\n",
        "print(f\"Elapsed time:{time.time() - start}\")"
      ],
      "metadata": {
        "colab": {
          "base_uri": "https://localhost:8080/"
        },
        "id": "vJ4oxN7EHhw7",
        "outputId": "fec93eb0-20fb-4a91-88ba-e127f1354b55"
      },
      "execution_count": null,
      "outputs": [
        {
          "output_type": "stream",
          "name": "stdout",
          "text": [
            "4999999950000000\n",
            "Elapsed time:0.37337231636047363\n"
          ]
        }
      ]
    },
    {
      "cell_type": "markdown",
      "source": [
        "Python still slower then C, but sufficiently fast as a script langunge"
      ],
      "metadata": {
        "id": "MBnWexh1IVCj"
      }
    },
    {
      "cell_type": "markdown",
      "source": [
        "## What is numpy\n",
        "\n",
        "- Numpy is a python package, stand for **numerical python**. it is a library consisting of mutidimensional array object and a collection of routines for processing of array\n",
        "- Numeric, the ancestor of numpy, was developed by Jim Hungunin. another package numarray was also developed, having some additional functionalities. in 2005, travis oliphant created numpy package by incorporating the features of numarray into numeric package. there are many contibutors to this open source prohect\n",
        "\n",
        "- NumPy - A Replacement for MatLab\n",
        "  > NumPy is often used along with packages like SciPy (Scientific Python) and Matplotlib (plotting library). This combination is widely used as a replacement for MatLab, a popular platform for technical computing. However, Python alternative to MatLab is now seen as a more modern and complete programming language. It is open source, which is an added advantage of NumPy.\n",
        "\n",
        "- The most important object defined in NumPy is an N-dimensional array type called ndarray. It describes the collection of items of the same type. Items in the collection can be accessed using a zero-based index.\n",
        "- Every item in an ndarray takes the same size of block in the memory. Each element in ndarray is an object of data-type object (called dtype).\""
      ],
      "metadata": {
        "id": "ROCXsAT3WH5M"
      }
    },
    {
      "cell_type": "markdown",
      "source": [
        "Why is NumPy important in machine learning?\n",
        "\n",
        "- Efficient handling of large datasets (arrays/matrices).\n",
        "- Provides foundational support for libraries like Pandas, TensorFlow, and PyTorch.\n",
        "- Optimized performance over Python lists, especially for mathematical operations."
      ],
      "metadata": {
        "id": "sho04-h5SzJ3"
      }
    },
    {
      "cell_type": "markdown",
      "source": [
        "### a. Creating Arrays\n",
        "- 1D, 2D, and 3D arrays.\n",
        "- Using np.array(), np.zeros(), np.ones(), and np.arange()."
      ],
      "metadata": {
        "id": "CTxNCDCZS-YS"
      }
    },
    {
      "cell_type": "code",
      "source": [
        "import numpy as np\n",
        "# 1D array\n",
        "arr_1d = np.array([10, 20, 30])\n",
        "\n",
        "# 2D array (Matrix)\n",
        "arr_2d = np.array([[1, 2, 3], [4, 5, 6]])\n",
        "\n",
        "# 3D array\n",
        "arr_3d = np.array([[[1, 2, 3], [4, 5, 6]], [[7, 8, 9], [10, 11, 12]]])\n",
        "\n",
        "print(\"1D Array:\", arr_1d)\n",
        "print(\"2D Array (Matrix):\\n\", arr_2d)\n",
        "print(\"3D Array:\\n\", arr_3d)"
      ],
      "metadata": {
        "colab": {
          "base_uri": "https://localhost:8080/"
        },
        "id": "vBY82klETXiA",
        "outputId": "199356bc-51e5-4ce0-e6bb-6e7e5add46a1"
      },
      "execution_count": null,
      "outputs": [
        {
          "output_type": "stream",
          "name": "stdout",
          "text": [
            "1D Array: [10 20 30]\n",
            "2D Array (Matrix):\n",
            " [[1 2 3]\n",
            " [4 5 6]]\n",
            "3D Array:\n",
            " [[[ 1  2  3]\n",
            "  [ 4  5  6]]\n",
            "\n",
            " [[ 7  8  9]\n",
            "  [10 11 12]]]\n"
          ]
        }
      ]
    },
    {
      "cell_type": "markdown",
      "source": [
        "### b. Indexing and Slicing\n",
        "- Accessing elements, rows, and columns of arrays."
      ],
      "metadata": {
        "id": "mZjZOT6WTaXc"
      }
    },
    {
      "cell_type": "code",
      "source": [
        "a = np.arange(10)\n",
        "print(a)"
      ],
      "metadata": {
        "id": "KF-5X--lxNl-"
      },
      "execution_count": null,
      "outputs": []
    },
    {
      "cell_type": "code",
      "source": [
        "indices = np.arange(0, 10, 2)\n",
        "print(indices)"
      ],
      "metadata": {
        "id": "3_M9Y4tuxaj-"
      },
      "execution_count": null,
      "outputs": []
    },
    {
      "cell_type": "code",
      "source": [
        "a[indices] = 0\n",
        "print(a)"
      ],
      "metadata": {
        "id": "8W5nCV1Txe2m"
      },
      "execution_count": null,
      "outputs": []
    },
    {
      "cell_type": "code",
      "source": [
        "b = np.arange(0,100, 20)\n",
        "print(b)"
      ],
      "metadata": {
        "id": "_Sm_3eNmxiu_"
      },
      "execution_count": null,
      "outputs": []
    },
    {
      "cell_type": "code",
      "source": [
        "a[indices] = b\n",
        "print(a)"
      ],
      "metadata": {
        "id": "USzU5n1rxnDG"
      },
      "execution_count": null,
      "outputs": []
    },
    {
      "cell_type": "code",
      "source": [
        "# Accessing elements in a 2D array\n",
        "print(\"First row, second element:\", arr_2d[0, 1])\n",
        "\n",
        "# Slicing arrays\n",
        "print(\"First row:\", arr_2d[0, :])\n",
        "print(\"Second column:\", arr_2d[:, 1])\n"
      ],
      "metadata": {
        "colab": {
          "base_uri": "https://localhost:8080/"
        },
        "id": "wpr8iqKrTnKX",
        "outputId": "03ea9604-b65a-4259-e059-aa3fd870cb37"
      },
      "execution_count": null,
      "outputs": [
        {
          "output_type": "stream",
          "name": "stdout",
          "text": [
            "First row, second element: 2\n",
            "First row: [1 2 3]\n",
            "Second column: [2 5]\n"
          ]
        }
      ]
    },
    {
      "cell_type": "markdown",
      "source": [
        "### c. Array Operations\n",
        "- Element-wise operations: addition, subtraction, multiplication.\n",
        "- Broadcasting.\n"
      ],
      "metadata": {
        "id": "O56EPD3zTpl8"
      }
    },
    {
      "cell_type": "code",
      "source": [
        "# Element-wise addition\n",
        "result = arr_2d + 10\n",
        "print(\"Array after adding 10 to each element:\\n\", result)\n",
        "\n",
        "# Element-wise multiplication\n",
        "result = arr_2d * 2\n",
        "print(\"Array after multiplying by 2:\\n\", result)\n"
      ],
      "metadata": {
        "colab": {
          "base_uri": "https://localhost:8080/"
        },
        "id": "CJ7a8uhkTy4R",
        "outputId": "52f03cce-2369-415f-a889-b646870ac13c"
      },
      "execution_count": null,
      "outputs": [
        {
          "output_type": "stream",
          "name": "stdout",
          "text": [
            "Array after adding 10 to each element:\n",
            " [[11 12 13]\n",
            " [14 15 16]]\n",
            "Array after multiplying by 2:\n",
            " [[ 2  4  6]\n",
            " [ 8 10 12]]\n"
          ]
        }
      ]
    },
    {
      "cell_type": "code",
      "source": [
        "import numpy as np\n",
        "\n",
        "a = np.array([1, 2, 3])\n",
        "print(a)\n",
        "print(type(a))"
      ],
      "metadata": {
        "colab": {
          "base_uri": "https://localhost:8080/"
        },
        "id": "tNgelzhrY-kM",
        "outputId": "3e13497d-80cc-4bca-a4ba-06c91d462523"
      },
      "execution_count": null,
      "outputs": [
        {
          "output_type": "stream",
          "name": "stdout",
          "text": [
            "[1 2 3]\n",
            "<class 'numpy.ndarray'>\n"
          ]
        }
      ]
    },
    {
      "cell_type": "code",
      "source": [
        "import numpy as np\n",
        "a = np.array([1, 2, 3], ndmin=2)\n",
        "print(a)"
      ],
      "metadata": {
        "colab": {
          "base_uri": "https://localhost:8080/"
        },
        "id": "SwPTg1ijZJxu",
        "outputId": "e882d5c7-504a-4620-8fac-7f54f3b6b36b"
      },
      "execution_count": null,
      "outputs": [
        {
          "output_type": "stream",
          "name": "stdout",
          "text": [
            "[[1 2 3]]\n"
          ]
        }
      ]
    },
    {
      "cell_type": "code",
      "source": [
        "import numpy as np\n",
        "a = np.array([1, 2, 3], dtype=complex)\n",
        "print(a)"
      ],
      "metadata": {
        "colab": {
          "base_uri": "https://localhost:8080/"
        },
        "id": "-UQEXZvdZR5l",
        "outputId": "b7e1a8b3-7a9a-46af-f12e-b45079b2c2a4"
      },
      "execution_count": null,
      "outputs": [
        {
          "output_type": "stream",
          "name": "stdout",
          "text": [
            "[1.+0.j 2.+0.j 3.+0.j]\n"
          ]
        }
      ]
    },
    {
      "cell_type": "code",
      "source": [
        "import numpy as np\n",
        "a = np.array([[1, 2], [3,4]])\n",
        "print(a)"
      ],
      "metadata": {
        "colab": {
          "base_uri": "https://localhost:8080/"
        },
        "id": "HtkX7MT9ZgmF",
        "outputId": "ae5e3bba-2871-46d4-84e2-d668bb6fc16d"
      },
      "execution_count": null,
      "outputs": [
        {
          "output_type": "stream",
          "name": "stdout",
          "text": [
            "[[1 2]\n",
            " [3 4]]\n"
          ]
        }
      ]
    },
    {
      "cell_type": "code",
      "source": [
        "import numpy as np\n",
        "a = np.array([0, 1, 2,3])\n",
        "print(a*3)"
      ],
      "metadata": {
        "colab": {
          "base_uri": "https://localhost:8080/"
        },
        "id": "yHYiQ3gvcQXT",
        "outputId": "5619646a-687c-4515-9908-05700a07cc53"
      },
      "execution_count": null,
      "outputs": [
        {
          "output_type": "stream",
          "name": "stdout",
          "text": [
            "[0 3 6 9]\n"
          ]
        }
      ]
    },
    {
      "cell_type": "code",
      "source": [
        "a = np.arange(9).reshape(3,3)\n",
        "b = np.array([1,2,3])\n",
        "print(a)\n",
        "print(b)\n",
        "\n",
        "print(a*b)"
      ],
      "metadata": {
        "colab": {
          "base_uri": "https://localhost:8080/"
        },
        "id": "U3iNauPjdWls",
        "outputId": "65b42ce7-ff75-4cbc-e9b1-0d09f383c227"
      },
      "execution_count": null,
      "outputs": [
        {
          "output_type": "stream",
          "name": "stdout",
          "text": [
            "[[0 1 2]\n",
            " [3 4 5]\n",
            " [6 7 8]]\n",
            "[1 2 3]\n",
            "[[ 0  2  6]\n",
            " [ 3  8 15]\n",
            " [ 6 14 24]]\n"
          ]
        }
      ]
    },
    {
      "cell_type": "markdown",
      "source": [
        "### d. Ploting graph"
      ],
      "metadata": {
        "id": "b-MhqIQ0xpX_"
      }
    },
    {
      "cell_type": "code",
      "source": [
        "import numpy as np\n",
        "from matplotlib import pyplot as plt\n",
        "x = np.arange(1,11)\n",
        "y = 2*x +5\n",
        "plt.title(\"Matplotlib demo\")\n",
        "plt.xlabel(\"x axis caption\")\n",
        "plt.ylabel(\"y axis caption\")\n",
        "plt.plot(x,y)\n",
        "plt.show()"
      ],
      "metadata": {
        "colab": {
          "base_uri": "https://localhost:8080/",
          "height": 472
        },
        "id": "wpDE3Rx2ZuHv",
        "outputId": "21c8f74c-b0de-4fad-878b-aa656e1b41e8"
      },
      "execution_count": null,
      "outputs": [
        {
          "output_type": "display_data",
          "data": {
            "text/plain": [
              "<Figure size 640x480 with 1 Axes>"
            ],
            "image/png": "[encoded data removed]"
          },
          "metadata": {}
        }
      ]
    },
    {
      "cell_type": "code",
      "source": [
        "import numpy as np\n",
        "from matplotlib import pyplot as plt\n",
        "x = np.arange(1,11)\n",
        "y = 2*x +5\n",
        "plt.title(\"Matplotlib demo\")\n",
        "plt.xlabel(\"x axis caption\")\n",
        "plt.ylabel(\"y axis caption\")\n",
        "plt.plot(x,y, \"ob\")\n",
        "plt.show()"
      ],
      "metadata": {
        "colab": {
          "base_uri": "https://localhost:8080/",
          "height": 430
        },
        "id": "cAiImTHuabtp",
        "outputId": "4afeef67-2a41-4bfe-9fbd-cab351f7bcdb"
      },
      "execution_count": null,
      "outputs": [
        {
          "output_type": "display_data",
          "data": {
            "text/plain": [
              "<Figure size 640x480 with 1 Axes>"
            ],
            "image/png": "[encoded data removed]"
          },
          "metadata": {}
        }
      ]
    },
    {
      "cell_type": "code",
      "source": [
        "import numpy as np\n",
        "from matplotlib import pyplot as plt\n",
        "x = np.arange(0, 3 * np.pi, 0.1)\n",
        "y = np.sin(x)\n",
        "plt.title(\"Sine Wave form\")\n",
        "plt.plot(x,y)\n",
        "plt.show()"
      ],
      "metadata": {
        "colab": {
          "base_uri": "https://localhost:8080/",
          "height": 452
        },
        "id": "2SStzZqIaaLF",
        "outputId": "82fb742b-b369-483e-9191-3e982220df48"
      },
      "execution_count": null,
      "outputs": [
        {
          "output_type": "display_data",
          "data": {
            "text/plain": [
              "<Figure size 640x480 with 1 Axes>"
            ],
            "image/png": "[encoded data removed]"
          },
          "metadata": {}
        }
      ]
    },
    {
      "cell_type": "code",
      "source": [
        "from matplotlib import pyplot as plt\n",
        "x = [5,8,10]\n",
        "y = [12,16,6]\n",
        "x2 = [6,9,11]\n",
        "y2 = [6,15,7]\n",
        "plt.bar(x, y, align='center')\n",
        "plt.bar(x2, y2, color='g', align='center')\n",
        "plt.title('Bar graph')\n",
        "plt.ylabel('Y axis')\n",
        "plt.xlabel('X axis')\n",
        "plt.show()"
      ],
      "metadata": {
        "colab": {
          "base_uri": "https://localhost:8080/",
          "height": 472
        },
        "id": "Wg3lQsf0aZoZ",
        "outputId": "bc3be40a-c811-4722-ee61-5645e38c3d18"
      },
      "execution_count": null,
      "outputs": [
        {
          "output_type": "display_data",
          "data": {
            "text/plain": [
              "<Figure size 640x480 with 1 Axes>"
            ],
            "image/png": "[encoded data removed]"
          },
          "metadata": {}
        }
      ]
    },
    {
      "cell_type": "markdown",
      "source": [
        "## Numpy for image Processing"
      ],
      "metadata": {
        "id": "uoZlr5zRVe6Y"
      }
    },
    {
      "cell_type": "markdown",
      "source": [
        "### a. Representing an Image\n",
        "  In NumPy, an image can be represented as a 2D array (for grayscale images) or a 3D array (for RGB images)."
      ],
      "metadata": {
        "id": "PY2l3-dZVocC"
      }
    },
    {
      "cell_type": "code",
      "source": [
        "import numpy as np\n",
        "from PIL import Image\n",
        "\n",
        "# Load an image using PIL\n",
        "image = Image.open('example_image.jpg')\n",
        "\n",
        "# Convert image to a NumPy array\n",
        "image_array = np.array(image)\n",
        "\n",
        "print(\"Image Array Shape:\", image_array.shape)  # Shape might be (height, width, channels) for RGB\n",
        "print(\"Image Array Data Type:\", image_array.dtype)  # Check pixel value type (uint8)\n",
        "print(\"First Pixel RGB Value:\", image_array[0, 0])  # RGB value of the top-left corner pixel"
      ],
      "metadata": {
        "id": "Xe8cM2ReVtS4"
      },
      "execution_count": null,
      "outputs": []
    },
    {
      "cell_type": "markdown",
      "source": [
        "### b. Resizing and Reshaping Images:\n",
        "  Often, machine learning models require images to be of a fixed size. We can resize or reshape images using NumPy."
      ],
      "metadata": {
        "id": "Q8FCJyJBVw_y"
      }
    },
    {
      "cell_type": "code",
      "source": [
        "# Resize image to a fixed size (e.g., 28x28 for MNIST-like tasks)\n",
        "image_resized = image.resize((28, 28))\n",
        "\n",
        "# Convert resized image to a NumPy array\n",
        "image_resized_array = np.array(image_resized)\n",
        "\n",
        "print(\"Resized Image Shape:\", image_resized_array.shape)"
      ],
      "metadata": {
        "id": "8QeZWA7XV-1z"
      },
      "execution_count": null,
      "outputs": []
    },
    {
      "cell_type": "markdown",
      "source": [
        "### c. Normalizing Image Data\n",
        "  Machine learning models often perform better when input data is normalized (e.g., pixel values scaled between 0 and 1)."
      ],
      "metadata": {
        "id": "ESCeB8DpWv8O"
      }
    },
    {
      "cell_type": "code",
      "source": [
        "# Normalize pixel values (0-255) to the range 0-1\n",
        "normalized_image = image_resized_array / 255.0\n",
        "\n",
        "print(\"Normalized Image Pixel Range:\", normalized_image.min(), \"-\", normalized_image.max())\n"
      ],
      "metadata": {
        "id": "k_pnwbkpWvhY"
      },
      "execution_count": null,
      "outputs": []
    },
    {
      "cell_type": "markdown",
      "source": [
        "### d. Reshaping Images for Model Input\n",
        "Some models, like fully connected neural networks, expect a 1D array as input, while convolutional neural networks (CNNs) expect 3D arrays. Use NumPy’s reshape to convert between these formats."
      ],
      "metadata": {
        "id": "AlwfavGrW3qG"
      }
    },
    {
      "cell_type": "code",
      "source": [
        "# For a fully connected neural network, flatten the 28x28 image into a 1D array of size 784\n",
        "flattened_image = normalized_image.reshape(-1)\n",
        "\n",
        "print(\"Flattened Image Shape:\", flattened_image.shape)\n",
        "\n",
        "# For a CNN, we may need to add a batch dimension and a channel dimension\n",
        "cnn_image = normalized_image.reshape(1, 28, 28, 1)  # Shape: (batch_size, height, width, channels)\n",
        "\n",
        "print(\"Image for CNN Shape:\", cnn_image.shape)"
      ],
      "metadata": {
        "id": "S_hfrFA0W8vH"
      },
      "execution_count": null,
      "outputs": []
    },
    {
      "cell_type": "markdown",
      "source": [
        "## Example image classification\n"
      ],
      "metadata": {
        "id": "gm2QC2vTXGxP"
      }
    },
    {
      "cell_type": "markdown",
      "source": [
        "### a. Loading a Dataset (e.g., MNIST)\n",
        "For this example, we'll simulate loading the MNIST dataset, but similar steps apply when using libraries like tensorflow or keras."
      ],
      "metadata": {
        "id": "N9vbhoK8XfLs"
      }
    },
    {
      "cell_type": "code",
      "source": [
        "import numpy as np\n",
        "from tensorflow.keras.datasets import mnist\n",
        "\n",
        "# Load MNIST dataset\n",
        "(X_train, y_train), (X_test, y_test) = mnist.load_data()\n",
        "\n",
        "# Flatten the images into 1D arrays (each 28x28 image becomes a 784 element array)\n",
        "X_train = X_train.reshape(X_train.shape[0], -1)  # Shape: (60000, 784)\n",
        "X_test = X_test.reshape(X_test.shape[0], -1)     # Shape: (10000, 784)\n",
        "\n",
        "# Normalize pixel values (0-255) to the range 0-1\n",
        "X_train = X_train / 255.0\n",
        "X_test = X_test / 255.0\n",
        "\n",
        "# Convert labels to one-hot encoding (only for multi-class classification)\n",
        "def one_hot(y, num_classes):\n",
        "    return np.eye(num_classes)[y]\n",
        "\n",
        "# For binary classification, let's classify only digit \"0\" vs \"not 0\"\n",
        "y_train_binary = (y_train == 0).astype(int)\n",
        "y_test_binary = (y_test == 0).astype(int)\n",
        "\n",
        "print(\"Train set shape:\", X_train.shape)\n",
        "print(\"Test set shape:\", X_test.shape)\n",
        "\n"
      ],
      "metadata": {
        "colab": {
          "base_uri": "https://localhost:8080/"
        },
        "id": "k_bSvkwLXXNs",
        "outputId": "5f9753d7-5780-4fea-9814-622e345d6e06"
      },
      "execution_count": null,
      "outputs": [
        {
          "output_type": "stream",
          "name": "stdout",
          "text": [
            "Downloading data from https://storage.googleapis.com/tensorflow/tf-keras-datasets/mnist.npz\n",
            "\u001b[1m11490434/11490434\u001b[0m \u001b[32m━━━━━━━━━━━━━━━━━━━━\u001b[0m\u001b[37m\u001b[0m \u001b[1m0s\u001b[0m 0us/step\n",
            "Train set shape: (60000, 784)\n",
            "Test set shape: (10000, 784)\n"
          ]
        }
      ]
    },
    {
      "cell_type": "markdown",
      "source": [
        "### b. Implement Logistic Regression Using NumPy\n",
        "Next, we will implement the logistic regression model. Logistic regression predicts probabilities, so we need a sigmoid function and cross-entropy loss function.\n",
        "\n",
        "a. Sigmoid Function:\n",
        "The sigmoid function is used to convert the output of the linear model to a probability."
      ],
      "metadata": {
        "id": "6rFEkdG-YVAh"
      }
    },
    {
      "cell_type": "code",
      "source": [
        "def sigmoid(z):\n",
        "    return 1 / (1 + np.exp(-z))"
      ],
      "metadata": {
        "id": "lYcub36nYPtV"
      },
      "execution_count": null,
      "outputs": []
    },
    {
      "cell_type": "markdown",
      "source": [
        "### c. Loss Function (Binary Cross-Entropy)\n",
        "The binary cross-entropy loss function is used to measure the performance of the logistic regression classifier."
      ],
      "metadata": {
        "id": "9kd8GFR8YZsR"
      }
    },
    {
      "cell_type": "code",
      "source": [
        "def binary_cross_entropy(y_true, y_pred):\n",
        "    # Adding epsilon to avoid log(0)\n",
        "    epsilon = 1e-9\n",
        "    return -np.mean(y_true * np.log(y_pred + epsilon) + (1 - y_true) * np.log(1 - y_pred + epsilon))\n"
      ],
      "metadata": {
        "id": "9NM_fBSrYOz8"
      },
      "execution_count": null,
      "outputs": []
    },
    {
      "cell_type": "markdown",
      "source": [
        "### d. Prediction Function\n",
        "To make predictions, we compute the dot product of the input data and the weights, then apply the sigmoid function."
      ],
      "metadata": {
        "id": "geJZc_D2Yw2y"
      }
    },
    {
      "cell_type": "code",
      "source": [
        "def predict(X, weights):\n",
        "    z = np.dot(X, weights)  # Linear combination of inputs and weights\n",
        "    return sigmoid(z)  # Sigmoid output for binary classification\n"
      ],
      "metadata": {
        "id": "Zik77EZnYlyl"
      },
      "execution_count": null,
      "outputs": []
    },
    {
      "cell_type": "markdown",
      "source": [
        "### e. Train the Model Using Gradient Descent\n",
        "\n",
        "Gradient of Loss Function:\n",
        "We compute the gradient of the binary cross-entropy loss with respect to the weights, which will help update the weights during training."
      ],
      "metadata": {
        "id": "n_jnt5uIYt0R"
      }
    },
    {
      "cell_type": "code",
      "source": [
        "def compute_gradient(X, y_true, y_pred):\n",
        "    m = X.shape[0]  # Number of training examples\n",
        "    return np.dot(X.T, (y_pred - y_true)) / m\n"
      ],
      "metadata": {
        "id": "9xTsH70eY9W4"
      },
      "execution_count": null,
      "outputs": []
    },
    {
      "cell_type": "markdown",
      "source": [
        "b. Gradient Descent:\n",
        "We will update the weights iteratively using the gradient descent algorithm."
      ],
      "metadata": {
        "id": "QXjCLrzUZDwo"
      }
    },
    {
      "cell_type": "code",
      "source": [
        "def train(X, y, X_test, y_test, learning_rate=0.01, epochs=1000):\n",
        "    num_features = X.shape[1]\n",
        "    weights = np.zeros(num_features)\n",
        "    loss_history = []\n",
        "    accuracy_history = []\n",
        "\n",
        "    for epoch in range(epochs):\n",
        "        # Training phase\n",
        "        y_pred = predict(X, weights)\n",
        "        gradient = compute_gradient(X, y, y_pred)\n",
        "        weights -= learning_rate * gradient\n",
        "\n",
        "        # Calculate and store loss\n",
        "        loss = binary_cross_entropy(y, y_pred)\n",
        "        if epoch % 50 == 0:\n",
        "          print(f\"Epoch {epoch}, Loss: {loss}\")\n",
        "        loss_history.append(loss)\n",
        "\n",
        "        # Test phase: Calculate accuracy on the test set\n",
        "        y_test_pred = predict(X_test, weights)\n",
        "        accuracy = accuracy_function(y_test, y_test_pred)\n",
        "        accuracy_history.append(accuracy)\n",
        "\n",
        "    return weights, loss_history, accuracy_history"
      ],
      "metadata": {
        "id": "NMEkI2krZGXd"
      },
      "execution_count": null,
      "outputs": []
    },
    {
      "cell_type": "markdown",
      "source": [
        "### f. Training and Evaluation\n",
        "Now that we have the necessary components, we can train the model and evaluate its accuracy on the test set.\n",
        "\n",
        "a. Training the Logistic Regression Model:"
      ],
      "metadata": {
        "id": "9JYNf2UhZR73"
      }
    },
    {
      "cell_type": "code",
      "source": [
        "# Train the model and collect loss and accuracy history\n",
        "weights, loss_history, accuracy_history = train(\n",
        "    X_train, y_train_binary, X_test, y_test_binary, learning_rate=0.1, epochs=1000\n",
        ")\n",
        "\n",
        "# Plotting both loss and accuracy history\n",
        "fig, ax1 = plt.subplots(figsize=(8, 6))\n",
        "\n",
        "# Loss plot\n",
        "ax1.set_xlabel('Epochs')\n",
        "ax1.set_ylabel('Binary Cross-Entropy Loss', color='tab:blue')\n",
        "ax1.plot(range(1000), loss_history, label='Training Loss', color='tab:blue')\n",
        "ax1.tick_params(axis='y', labelcolor='tab:blue')\n",
        "ax1.grid(True)\n",
        "\n",
        "# Accuracy plot on the same figure\n",
        "ax2 = ax1.twinx()\n",
        "ax2.set_ylabel('Accuracy', color='tab:green')\n",
        "ax2.plot(range(1000), accuracy_history, label='Test Accuracy', color='tab:green')\n",
        "ax2.tick_params(axis='y', labelcolor='tab:green')\n",
        "\n",
        "# Titles and legends\n",
        "fig.tight_layout()\n",
        "plt.title('Training Loss and Test Accuracy Over Epochs')\n",
        "plt.show()\n"
      ],
      "metadata": {
        "id": "1t24fOjUZKWA"
      },
      "execution_count": null,
      "outputs": []
    },
    {
      "cell_type": "markdown",
      "source": [
        "A loss function measures how well or badly a model is performing, and we try to minimize this loss during training.\n",
        "\n",
        "Binary cross-entropy is the method we use to compare the predicted probability to the actual label. It's a way of measuring how well our model's predictions match the actual labels."
      ],
      "metadata": {
        "id": "pooHzSCPdFQD"
      }
    },
    {
      "cell_type": "markdown",
      "source": [
        "b. Evaluating the Model:\n",
        "To evaluate the model, we will use accuracy as the metric by comparing the predicted labels to the actual labels."
      ],
      "metadata": {
        "id": "05ZHz7gnZWPX"
      }
    },
    {
      "cell_type": "code",
      "source": [
        "def accuracy(y_true, y_pred):\n",
        "    # Convert probabilities to binary labels (0 or 1)\n",
        "    y_pred_labels = (y_pred >= 0.5).astype(int)\n",
        "    return np.mean(y_true == y_pred_labels)\n",
        "\n",
        "# Predictions on the test set\n",
        "y_test_pred = predict(X_test, weights)\n",
        "\n",
        "# Evaluate accuracy\n",
        "test_accuracy = accuracy(y_test_binary, y_test_pred)\n",
        "print(\"Test Accuracy:\", test_accuracy)"
      ],
      "metadata": {
        "colab": {
          "base_uri": "https://localhost:8080/"
        },
        "id": "CucYJE3VZYGf",
        "outputId": "bfd6a5da-79c4-44a5-c1af-19deecafe63b"
      },
      "execution_count": null,
      "outputs": [
        {
          "output_type": "stream",
          "name": "stdout",
          "text": [
            "Test Accuracy: 0.9905\n"
          ]
        }
      ]
    },
    {
      "cell_type": "markdown",
      "source": [
        "## Reference\n",
        "\n",
        "- https://emclab.mst.edu/media/research/emclab/documents/tutorials/Introduction_to_Python_MachineLearning_20190417_LingZhang.pdf\n",
        "- https://medium.com/@Coursesteach/image-preprocessing-using-python-2db2fd91618a\n",
        "\n",
        "- https://www.nrigroupindia.com/e-book/Introduction%20to%20Machine%20Learning%20with%20Python%20(%20PDFDrive.com%20)-min.pdf\n",
        "\n",
        "- https://numpy.org/doc/1.18/numpy-user.pdf\n",
        "\n",
        "-"
      ],
      "metadata": {
        "id": "Awqog6NkUfjQ"
      }
    },
    {
      "cell_type": "code",
      "source": [],
      "metadata": {
        "id": "oKQC6DW0bH4E"
      },
      "execution_count": null,
      "outputs": []
    }
  ]
}